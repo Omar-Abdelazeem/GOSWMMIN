{
 "cells": [
  {
   "cell_type": "markdown",
   "metadata": {},
   "source": [
    "## Running and Processing a SWMMIN Simulation\n",
    "\n",
    "In this notebook, we go over an example of running and processing a SWMMIN simulation created by either the ```Conversion_to_SWMMIN.ipynb``` notebook or the ```Convert_to_SWMMIN()``` method of the ```SWMMIN_sim()``` class.  \n",
    "\n",
    "The execution of the SWMM simulation is done using PySWMM [[1]](#references).  \n",
    "\n",
    "After execution, the output is processed and a few visualization and post-processing tools are showcased."
   ]
  },
  {
   "cell_type": "markdown",
   "metadata": {},
   "source": [
    "### Importing Required Packages"
   ]
  },
  {
   "cell_type": "code",
   "execution_count": 1,
   "metadata": {},
   "outputs": [],
   "source": [
    "import pyswmm\n",
    "import re\n",
    "import pandas as pd\n",
    "import numpy as np\n",
    "import datetime\n",
    "import matplotlib\n",
    "import matplotlib.pyplot as plt\n",
    "import pathlib"
   ]
  },
  {
   "cell_type": "markdown",
   "metadata": {},
   "source": [
    "### Specifying SWMMIN input file\n",
    "In this notebook the SWMMIN input file must be input directly.  \n",
    "In the GOSWMMIN package, the SWMMIN_sim() class contains the input file path and the file can be executed directly using ```SWMMIN_sim().Run_SWMMIN()```"
   ]
  },
  {
   "cell_type": "code",
   "execution_count": 2,
   "metadata": {},
   "outputs": [
    {
     "name": "stdout",
     "output_type": "stream",
     "text": [
      "Selected File:  Linear_Network\n"
     ]
    }
   ],
   "source": [
    " # Replace with appropriate path and filename\n",
    "directory=pathlib.Path('../Networks/Linear Network/')\n",
    "filename=pathlib.Path('Linear_Network_SWMMIN_100m.inp')\n",
    "name_only='_'.join(str(filename).split('_')[0:2])\n",
    "print(\"Selected File: \",name_only)\n",
    "path=directory/filename"
   ]
  },
  {
   "cell_type": "markdown",
   "metadata": {},
   "source": [
    "##### Open the SWMM simulation using PySWMM\n",
    "Specifying the path for the input file and the future/current output file (.out) where the results are stored"
   ]
  },
  {
   "cell_type": "code",
   "execution_count": 3,
   "metadata": {},
   "outputs": [],
   "source": [
    "sim=pyswmm.Simulation (str(path), outputfile=str(path.with_suffix(\".out\")))"
   ]
  },
  {
   "cell_type": "markdown",
   "metadata": {},
   "source": [
    "##### Read the IDs of demand nodes (Notebook only)\n",
    "Find the list of ids for demand nodes by identifying user storage nodes. In the GOSWMMIN package, this information is stored in the object"
   ]
  },
  {
   "cell_type": "code",
   "execution_count": 4,
   "metadata": {},
   "outputs": [],
   "source": [
    "# Load the nodes object from the simulation\n",
    "nodes=pyswmm.nodes.Nodes(sim)\n",
    "# Initialize list of tank IDs\n",
    "tankids=[]\n",
    "# Loop through all nodes and find the tank IDs that start with StorageforNode\n",
    "for node in nodes:\n",
    "    if re.search('StorageforNode',node.nodeid):\n",
    "        tankids.append(node.nodeid)\n",
    "\n",
    "# Extract the demand node IDs from the tank IDs\n",
    "demand_node_ids=[x[14:] for x in tankids]\n",
    "# Create the withdrawal and consumption outlet IDs\n",
    "Withdraw_ids = [\"Outlet\" + x for x in demand_node_ids]\n",
    "Consume_ids = [\"DemandOutlet\" + x for x in demand_node_ids]"
   ]
  },
  {
   "cell_type": "markdown",
   "metadata": {},
   "source": [
    "##### Run the SWMMIN simulation using PySWMM \n",
    "\n",
    "Using PySWMM, execute the input file and display progress updates and a final value for the continuity error.  \n",
    "Tis cell can be skipped if the input file has already been run before and a .out file already exists with the intended simulation's results"
   ]
  },
  {
   "cell_type": "code",
   "execution_count": 5,
   "metadata": {},
   "outputs": [
    {
     "name": "stdout",
     "output_type": "stream",
     "text": [
      "Current Simulation Time is >>  2022-05-18 00:00:00 ,  0.0 % Complete\n",
      "Current Simulation Time is >>  2022-05-18 00:16:40 ,  1.2 % Complete\n",
      "Current Simulation Time is >>  2022-05-18 00:33:20 ,  2.3 % Complete\n",
      "Current Simulation Time is >>  2022-05-18 00:50:00 ,  3.5 % Complete\n",
      "Current Simulation Time is >>  2022-05-18 01:06:40 ,  4.6 % Complete\n",
      "Current Simulation Time is >>  2022-05-18 01:23:20 ,  5.8 % Complete\n",
      "Current Simulation Time is >>  2022-05-18 01:40:00 ,  6.9 % Complete\n",
      "Current Simulation Time is >>  2022-05-18 01:56:40 ,  8.1 % Complete\n",
      "Current Simulation Time is >>  2022-05-18 02:13:20 ,  9.3 % Complete\n",
      "Current Simulation Time is >>  2022-05-18 02:30:00 ,  10.4 % Complete\n",
      "Current Simulation Time is >>  2022-05-18 02:46:40 ,  11.6 % Complete\n",
      "Current Simulation Time is >>  2022-05-18 03:03:20 ,  12.7 % Complete\n",
      "Current Simulation Time is >>  2022-05-18 03:20:00 ,  13.9 % Complete\n",
      "Current Simulation Time is >>  2022-05-18 03:36:40 ,  15.1 % Complete\n",
      "Current Simulation Time is >>  2022-05-18 03:53:20 ,  16.2 % Complete\n",
      "Current Simulation Time is >>  2022-05-18 04:10:00 ,  17.4 % Complete\n",
      "Current Simulation Time is >>  2022-05-18 04:26:40 ,  18.5 % Complete\n",
      "Current Simulation Time is >>  2022-05-18 04:43:20 ,  19.7 % Complete\n",
      "Current Simulation Time is >>  2022-05-18 05:00:00 ,  20.8 % Complete\n",
      "Current Simulation Time is >>  2022-05-18 05:16:40 ,  22.0 % Complete\n",
      "Current Simulation Time is >>  2022-05-18 05:33:20 ,  23.2 % Complete\n",
      "Current Simulation Time is >>  2022-05-18 05:50:00 ,  24.3 % Complete\n",
      "Current Simulation Time is >>  2022-05-18 06:06:40 ,  25.5 % Complete\n",
      "Current Simulation Time is >>  2022-05-18 06:23:20 ,  26.6 % Complete\n",
      "Current Simulation Time is >>  2022-05-18 06:40:00 ,  27.8 % Complete\n",
      "Current Simulation Time is >>  2022-05-18 06:56:40 ,  29.0 % Complete\n",
      "Current Simulation Time is >>  2022-05-18 07:13:20 ,  30.1 % Complete\n",
      "Current Simulation Time is >>  2022-05-18 07:30:00 ,  31.3 % Complete\n",
      "Current Simulation Time is >>  2022-05-18 07:46:40 ,  32.4 % Complete\n",
      "Current Simulation Time is >>  2022-05-18 08:03:20 ,  33.6 % Complete\n",
      "Current Simulation Time is >>  2022-05-18 08:20:00 ,  34.7 % Complete\n",
      "Current Simulation Time is >>  2022-05-18 08:36:40 ,  35.9 % Complete\n",
      "Current Simulation Time is >>  2022-05-18 08:53:20 ,  37.1 % Complete\n",
      "Current Simulation Time is >>  2022-05-18 09:10:00 ,  38.2 % Complete\n",
      "Current Simulation Time is >>  2022-05-18 09:26:40 ,  39.4 % Complete\n",
      "Current Simulation Time is >>  2022-05-18 09:43:20 ,  40.5 % Complete\n",
      "Current Simulation Time is >>  2022-05-18 10:00:00 ,  41.7 % Complete\n",
      "Current Simulation Time is >>  2022-05-18 10:16:40 ,  42.9 % Complete\n",
      "Current Simulation Time is >>  2022-05-18 10:33:20 ,  44.0 % Complete\n",
      "Current Simulation Time is >>  2022-05-18 10:50:00 ,  45.2 % Complete\n",
      "Current Simulation Time is >>  2022-05-18 11:06:40 ,  46.3 % Complete\n",
      "Current Simulation Time is >>  2022-05-18 11:23:20 ,  47.5 % Complete\n",
      "Current Simulation Time is >>  2022-05-18 11:40:00 ,  48.6 % Complete\n",
      "Current Simulation Time is >>  2022-05-18 11:56:40 ,  49.8 % Complete\n",
      "Current Simulation Time is >>  2022-05-18 12:13:20 ,  51.0 % Complete\n",
      "Current Simulation Time is >>  2022-05-18 12:30:00 ,  52.1 % Complete\n",
      "Current Simulation Time is >>  2022-05-18 12:46:40 ,  53.3 % Complete\n",
      "Current Simulation Time is >>  2022-05-18 13:03:20 ,  54.4 % Complete\n",
      "Current Simulation Time is >>  2022-05-18 13:20:00 ,  55.6 % Complete\n",
      "Current Simulation Time is >>  2022-05-18 13:36:40 ,  56.8 % Complete\n",
      "Current Simulation Time is >>  2022-05-18 13:53:20 ,  57.9 % Complete\n",
      "Current Simulation Time is >>  2022-05-18 14:10:00 ,  59.1 % Complete\n",
      "Current Simulation Time is >>  2022-05-18 14:26:40 ,  60.2 % Complete\n",
      "Current Simulation Time is >>  2022-05-18 14:43:20 ,  61.4 % Complete\n",
      "Current Simulation Time is >>  2022-05-18 15:00:00 ,  62.5 % Complete\n",
      "Current Simulation Time is >>  2022-05-18 15:16:40 ,  63.7 % Complete\n",
      "Current Simulation Time is >>  2022-05-18 15:33:20 ,  64.9 % Complete\n",
      "Current Simulation Time is >>  2022-05-18 15:50:00 ,  66.0 % Complete\n",
      "Current Simulation Time is >>  2022-05-18 16:06:40 ,  67.2 % Complete\n",
      "Current Simulation Time is >>  2022-05-18 16:23:20 ,  68.3 % Complete\n",
      "Current Simulation Time is >>  2022-05-18 16:40:00 ,  69.5 % Complete\n",
      "Current Simulation Time is >>  2022-05-18 16:56:40 ,  70.7 % Complete\n",
      "Current Simulation Time is >>  2022-05-18 17:13:20 ,  71.8 % Complete\n",
      "Current Simulation Time is >>  2022-05-18 17:30:00 ,  73.0 % Complete\n",
      "Current Simulation Time is >>  2022-05-18 17:46:40 ,  74.1 % Complete\n",
      "Current Simulation Time is >>  2022-05-18 18:03:20 ,  75.3 % Complete\n",
      "Current Simulation Time is >>  2022-05-18 18:20:00 ,  76.4 % Complete\n",
      "Current Simulation Time is >>  2022-05-18 18:36:40 ,  77.6 % Complete\n",
      "Current Simulation Time is >>  2022-05-18 18:53:20 ,  78.8 % Complete\n",
      "Current Simulation Time is >>  2022-05-18 19:10:00 ,  79.9 % Complete\n",
      "Current Simulation Time is >>  2022-05-18 19:26:40 ,  81.1 % Complete\n",
      "Current Simulation Time is >>  2022-05-18 19:43:20 ,  82.2 % Complete\n",
      "Current Simulation Time is >>  2022-05-18 20:00:00 ,  83.4 % Complete\n",
      "Current Simulation Time is >>  2022-05-18 20:16:40 ,  84.5 % Complete\n",
      "Current Simulation Time is >>  2022-05-18 20:33:20 ,  85.7 % Complete\n",
      "Current Simulation Time is >>  2022-05-18 20:50:00 ,  86.9 % Complete\n",
      "Current Simulation Time is >>  2022-05-18 21:06:40 ,  88.0 % Complete\n",
      "Current Simulation Time is >>  2022-05-18 21:23:20 ,  89.2 % Complete\n",
      "Current Simulation Time is >>  2022-05-18 21:40:00 ,  90.3 % Complete\n",
      "Current Simulation Time is >>  2022-05-18 21:56:40 ,  91.5 % Complete\n",
      "Current Simulation Time is >>  2022-05-18 22:13:20 ,  92.7 % Complete\n",
      "Current Simulation Time is >>  2022-05-18 22:30:00 ,  93.8 % Complete\n",
      "Current Simulation Time is >>  2022-05-18 22:46:40 ,  95.0 % Complete\n",
      "Current Simulation Time is >>  2022-05-18 23:03:20 ,  96.1 % Complete\n",
      "Current Simulation Time is >>  2022-05-18 23:20:00 ,  97.3 % Complete\n",
      "Current Simulation Time is >>  2022-05-18 23:36:40 ,  98.4 % Complete\n",
      "Current Simulation Time is >>  2022-05-18 23:53:20 ,  99.6 % Complete\n",
      "Continuity Error:  -0.0004161995311733335 %\n",
      "\n"
     ]
    }
   ],
   "source": [
    "stp=0       #steps counter\n",
    "every=1000  #Interval of printing current time\n",
    "\n",
    "# runs the simulation step by step\n",
    "with sim as sim:\n",
    "    system_routing = pyswmm.SystemStats(sim)\n",
    "    for step in sim:\n",
    "        if stp%every==0:\n",
    "            print('Current Simulation Time is >> ',sim.current_time,\", \",round(sim.percent_complete*100,1),\"% Complete\")\n",
    "\n",
    "        stp+=1\n",
    "        pass\n",
    "    sim._model.swmm_end()\n",
    "    print(\"Continuity Error: \",sim.flow_routing_error,\"%\\n\")"
   ]
  },
  {
   "cell_type": "code",
   "execution_count": 6,
   "metadata": {},
   "outputs": [
    {
     "ename": "AttributeError",
     "evalue": "module 'pyswmm' has no attribute 'Output'",
     "output_type": "error",
     "traceback": [
      "\u001b[1;31m---------------------------------------------------------------------------\u001b[0m",
      "\u001b[1;31mAttributeError\u001b[0m                            Traceback (most recent call last)",
      "Cell \u001b[1;32mIn[6], line 6\u001b[0m\n\u001b[0;32m      3\u001b[0m swtch\u001b[38;5;241m=\u001b[39m\u001b[38;5;28;01mTrue\u001b[39;00m                   \u001b[38;5;66;03m# switch variable for upcoming condition\u001b[39;00m\n\u001b[0;32m      5\u001b[0m \u001b[38;5;66;03m# Reads the output file created above\u001b[39;00m\n\u001b[1;32m----> 6\u001b[0m \u001b[38;5;28;01mwith\u001b[39;00m \u001b[43mpyswmm\u001b[49m\u001b[38;5;241;43m.\u001b[39;49m\u001b[43mOutput\u001b[49m(\u001b[38;5;28mstr\u001b[39m(path\u001b[38;5;241m.\u001b[39mwith_suffix(\u001b[38;5;124m\"\u001b[39m\u001b[38;5;124m.out\u001b[39m\u001b[38;5;124m\"\u001b[39m))) \u001b[38;5;28;01mas\u001b[39;00m out:\n\u001b[0;32m      7\u001b[0m     \u001b[38;5;66;03m# loops through each node in output file\u001b[39;00m\n\u001b[0;32m      8\u001b[0m     \u001b[38;5;28;01mfor\u001b[39;00m link \u001b[38;5;129;01min\u001b[39;00m out\u001b[38;5;241m.\u001b[39mlinks:\n\u001b[0;32m      9\u001b[0m \n\u001b[0;32m     10\u001b[0m         \u001b[38;5;66;03m# One time only. Gets the timesteps (the keys in the output series dictionary) and stores them to be used as index\u001b[39;00m\n\u001b[0;32m     11\u001b[0m         \u001b[38;5;28;01mif\u001b[39;00m swtch:\n\u001b[0;32m     12\u001b[0m         \u001b[38;5;66;03m# node_series produces a dictionary with the keys corresponding to timestamps and values contain the value of the selected variable (FLOW_RATE) at each timestamp\u001b[39;00m\n",
      "\u001b[1;31mAttributeError\u001b[0m: module 'pyswmm' has no attribute 'Output'"
     ]
    }
   ],
   "source": [
    "WithdrawRates=pd.DataFrame()   #Empty Dataframe to store water depth in tanks\n",
    "ConsumeRates=pd.DataFrame()   #Empty Dataframe to store water depth in nodes\n",
    "swtch=True                   # switch variable for upcoming condition\n",
    "\n",
    "# Reads the output file created above\n",
    "with pyswmm.Output(str(path.with_suffix(\".out\"))) as out:\n",
    "    # loops through each node in output file\n",
    "    for link in out.links:\n",
    "\n",
    "        # One time only. Gets the timesteps (the keys in the output series dictionary) and stores them to be used as index\n",
    "        if swtch:\n",
    "        # node_series produces a dictionary with the keys corresponding to timestamps and values contain the value of the selected variable (FLOW_RATE) at each timestamp\n",
    "            index = pd.Series(out.link_series(link, 'Flow_rate').keys())\n",
    "            WithdrawRates.loc[:,\"time\"]=index\n",
    "            ConsumeRates.loc[:,\"time\"]=index\n",
    "            swtch=False\n",
    "        \n",
    "        # If node id is in the prepared list of demand nodes (tanks)\n",
    "        if link in Withdraw_ids:\n",
    "            WithdrawRates.loc[:,link] = out.link_series(link, 'Flow_rate').values()  \n",
    "        elif link in Consume_ids:\n",
    "            ConsumeRates.loc[:,link]= out.link_series(link, 'Flow_rate').values()"
   ]
  },
  {
   "cell_type": "code",
   "execution_count": 37,
   "metadata": {},
   "outputs": [],
   "source": [
    "Withdraw_by_Day = WithdrawRates.groupby(pd.Grouper(key = 'time', freq = 'D'))\n",
    "last_day_W = Withdraw_by_Day.get_group(WithdrawRates['time'].max().floor('D'))\n",
    "\n",
    "Consumer_by_Day = ConsumeRates.groupby(pd.Grouper(key = 'time', freq = 'D'))\n",
    "last_day_C = Consumer_by_Day.get_group(ConsumeRates['time'].max().floor('D'))\n",
    "\n",
    "Daily_Totals_W = WithdrawRates.groupby(pd.Grouper(key = 'time', freq = 'D')).sum().T*10/1000\n",
    "Daily_Totals_C = ConsumeRates.groupby(pd.Grouper(key = 'time', freq = 'D')).sum().T.set_index(Daily_Totals_W.index)*10/1000"
   ]
  },
  {
   "cell_type": "code",
   "execution_count": null,
   "metadata": {},
   "outputs": [],
   "source": [
    "Daily_Satis_W = pd.DataFrame(columns=Daily_Totals_W.columns, index = Daily_Totals_W.index)\n",
    "Daily_Satis_C = pd.DataFrame(columns = Daily_Totals_C.columns, index = Daily_Totals_W.index)\n",
    "for column in range(len(Daily_Totals_W.columns)):\n",
    "        Daily_Satis_W.iloc[:,column] = Daily_Totals_W.iloc[:,column] / demand_volumes['Volume']*100\n",
    "        Daily_Satis_C.iloc[:,column] = Daily_Totals_C.iloc[:,column] / demand_volumes['Volume']*100"
   ]
  },
  {
   "cell_type": "markdown",
   "metadata": {},
   "source": [
    "# WATER BALANCE TOOL\n",
    "# Effective Supply Duration"
   ]
  },
  {
   "cell_type": "markdown",
   "metadata": {},
   "source": [
    "## References"
   ]
  }
 ],
 "metadata": {
  "kernelspec": {
   "display_name": "SWMMIN",
   "language": "python",
   "name": "python3"
  },
  "language_info": {
   "codemirror_mode": {
    "name": "ipython",
    "version": 3
   },
   "file_extension": ".py",
   "mimetype": "text/x-python",
   "name": "python",
   "nbconvert_exporter": "python",
   "pygments_lexer": "ipython3",
   "version": "3.9.20"
  }
 },
 "nbformat": 4,
 "nbformat_minor": 2
}
