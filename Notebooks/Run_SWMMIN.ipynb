{
 "cells": [
  {
   "cell_type": "markdown",
   "metadata": {},
   "source": [
    "## Running and Processing a SWMMIN Simulation\n",
    "\n",
    "In this notebook, we go over an example of running and processing a SWMMIN simulation created by either the ```Conversion_to_SWMMIN.ipynb``` notebook or the ```Convert_to_SWMMIN()``` method of the ```SWMMIN_sim()``` class.  \n",
    "\n",
    "The execution of the SWMM simulation is done using PySWMM [[1]](#references).  \n",
    "\n",
    "After execution, the output is processed and a few visualization and post-processing tools are showcased."
   ]
  },
  {
   "cell_type": "markdown",
   "metadata": {},
   "source": [
    "### Importing Required Packages"
   ]
  },
  {
   "cell_type": "code",
   "execution_count": 28,
   "metadata": {},
   "outputs": [],
   "source": [
    "import pyswmm\n",
    "import re\n",
    "import pandas as pd\n",
    "import numpy as np\n",
    "import datetime\n",
    "import matplotlib\n",
    "import matplotlib.pyplot as plt\n",
    "import pathlib"
   ]
  },
  {
   "cell_type": "markdown",
   "metadata": {},
   "source": [
    "### Specifying SWMMIN input file\n",
    "In this notebook the SWMMIN input file must be input directly.  \n",
    "In the GOSWMMIN package, the SWMMIN_sim() class contains the input file path and the file can be executed directly using ```SWMMIN_sim().Run_SWMMIN()```"
   ]
  },
  {
   "cell_type": "code",
   "execution_count": 29,
   "metadata": {},
   "outputs": [
    {
     "name": "stdout",
     "output_type": "stream",
     "text": [
      "Selected File:  Linear_Network\n"
     ]
    }
   ],
   "source": [
    " # Replace with appropriate path and filename\n",
    "directory=pathlib.Path('../Networks/Linear Network/')\n",
    "filename=pathlib.Path('Linear_Network_SWMMIN_100m.inp')\n",
    "name_only='_'.join(str(filename).split('_')[0:2])\n",
    "print(\"Selected File: \",name_only)\n",
    "path=directory/filename"
   ]
  },
  {
   "cell_type": "markdown",
   "metadata": {},
   "source": [
    "##### Open the SWMM simulation using PySWMM\n",
    "Specifying the path for the input file and the future/current output file (.out) where the results are stored"
   ]
  },
  {
   "cell_type": "code",
   "execution_count": 30,
   "metadata": {},
   "outputs": [],
   "source": [
    "sim=pyswmm.Simulation (str(path), outputfile=str(path.with_suffix(\".out\")))"
   ]
  },
  {
   "cell_type": "markdown",
   "metadata": {},
   "source": [
    "##### Read the IDs of demand nodes (Notebook only)\n",
    "Find the list of ids for demand nodes by identifying user storage nodes. In the GOSWMMIN package, this information is stored in the object"
   ]
  },
  {
   "cell_type": "code",
   "execution_count": 31,
   "metadata": {},
   "outputs": [],
   "source": [
    "# Load the nodes object from the simulation\n",
    "nodes=pyswmm.nodes.Nodes(sim)\n",
    "# Initialize list of tank IDs\n",
    "tankids=[]\n",
    "# Loop through all nodes and find the tank IDs that start with StorageforNode\n",
    "for node in nodes:\n",
    "    if re.search('StorageforNode',node.nodeid):\n",
    "        tankids.append(node.nodeid)\n",
    "\n",
    "# Extract the demand node IDs from the tank IDs\n",
    "demand_node_ids=[x[14:] for x in tankids]\n",
    "# Create the withdrawal and consumption outlet IDs\n",
    "Withdraw_ids = [\"Outlet\" + x for x in demand_node_ids]\n",
    "Consume_ids = [\"DemandOutlet\" + x for x in demand_node_ids]"
   ]
  },
  {
   "cell_type": "markdown",
   "metadata": {},
   "source": [
    "##### Run the SWMMIN simulation using PySWMM \n",
    "\n",
    "Using PySWMM, execute the input file and display progress updates and a final value for the continuity error.  \n",
    "Tis cell can be skipped if the input file has already been run before and a .out file already exists with the intended simulation's results"
   ]
  },
  {
   "cell_type": "code",
   "execution_count": 32,
   "metadata": {},
   "outputs": [
    {
     "name": "stdout",
     "output_type": "stream",
     "text": [
      "Current Simulation Time is >>  2022-05-18 00:00:00 ,  0.0 % Complete\n",
      "Current Simulation Time is >>  2022-05-18 00:16:40 ,  1.2 % Complete\n",
      "Current Simulation Time is >>  2022-05-18 00:33:20 ,  2.3 % Complete\n",
      "Current Simulation Time is >>  2022-05-18 00:50:00 ,  3.5 % Complete\n",
      "Current Simulation Time is >>  2022-05-18 01:06:40 ,  4.6 % Complete\n",
      "Current Simulation Time is >>  2022-05-18 01:23:20 ,  5.8 % Complete\n",
      "Current Simulation Time is >>  2022-05-18 01:40:00 ,  6.9 % Complete\n",
      "Current Simulation Time is >>  2022-05-18 01:56:40 ,  8.1 % Complete\n",
      "Current Simulation Time is >>  2022-05-18 02:13:20 ,  9.3 % Complete\n",
      "Current Simulation Time is >>  2022-05-18 02:30:00 ,  10.4 % Complete\n",
      "Current Simulation Time is >>  2022-05-18 02:46:40 ,  11.6 % Complete\n",
      "Current Simulation Time is >>  2022-05-18 03:03:20 ,  12.7 % Complete\n",
      "Current Simulation Time is >>  2022-05-18 03:20:00 ,  13.9 % Complete\n",
      "Current Simulation Time is >>  2022-05-18 03:36:40 ,  15.1 % Complete\n",
      "Current Simulation Time is >>  2022-05-18 03:53:20 ,  16.2 % Complete\n",
      "Current Simulation Time is >>  2022-05-18 04:10:00 ,  17.4 % Complete\n",
      "Current Simulation Time is >>  2022-05-18 04:26:40 ,  18.5 % Complete\n",
      "Current Simulation Time is >>  2022-05-18 04:43:20 ,  19.7 % Complete\n",
      "Current Simulation Time is >>  2022-05-18 05:00:00 ,  20.8 % Complete\n",
      "Current Simulation Time is >>  2022-05-18 05:16:40 ,  22.0 % Complete\n",
      "Current Simulation Time is >>  2022-05-18 05:33:20 ,  23.2 % Complete\n",
      "Current Simulation Time is >>  2022-05-18 05:50:00 ,  24.3 % Complete\n",
      "Current Simulation Time is >>  2022-05-18 06:06:40 ,  25.5 % Complete\n",
      "Current Simulation Time is >>  2022-05-18 06:23:20 ,  26.6 % Complete\n",
      "Current Simulation Time is >>  2022-05-18 06:40:00 ,  27.8 % Complete\n",
      "Current Simulation Time is >>  2022-05-18 06:56:40 ,  29.0 % Complete\n",
      "Current Simulation Time is >>  2022-05-18 07:13:20 ,  30.1 % Complete\n",
      "Current Simulation Time is >>  2022-05-18 07:30:00 ,  31.3 % Complete\n",
      "Current Simulation Time is >>  2022-05-18 07:46:40 ,  32.4 % Complete\n",
      "Current Simulation Time is >>  2022-05-18 08:03:20 ,  33.6 % Complete\n",
      "Current Simulation Time is >>  2022-05-18 08:20:00 ,  34.7 % Complete\n",
      "Current Simulation Time is >>  2022-05-18 08:36:40 ,  35.9 % Complete\n",
      "Current Simulation Time is >>  2022-05-18 08:53:20 ,  37.1 % Complete\n",
      "Current Simulation Time is >>  2022-05-18 09:10:00 ,  38.2 % Complete\n",
      "Current Simulation Time is >>  2022-05-18 09:26:40 ,  39.4 % Complete\n",
      "Current Simulation Time is >>  2022-05-18 09:43:20 ,  40.5 % Complete\n",
      "Current Simulation Time is >>  2022-05-18 10:00:00 ,  41.7 % Complete\n",
      "Current Simulation Time is >>  2022-05-18 10:16:40 ,  42.9 % Complete\n",
      "Current Simulation Time is >>  2022-05-18 10:33:20 ,  44.0 % Complete\n",
      "Current Simulation Time is >>  2022-05-18 10:50:00 ,  45.2 % Complete\n",
      "Current Simulation Time is >>  2022-05-18 11:06:40 ,  46.3 % Complete\n",
      "Current Simulation Time is >>  2022-05-18 11:23:20 ,  47.5 % Complete\n",
      "Current Simulation Time is >>  2022-05-18 11:40:00 ,  48.6 % Complete\n",
      "Current Simulation Time is >>  2022-05-18 11:56:40 ,  49.8 % Complete\n",
      "Current Simulation Time is >>  2022-05-18 12:13:20 ,  51.0 % Complete\n",
      "Current Simulation Time is >>  2022-05-18 12:30:00 ,  52.1 % Complete\n",
      "Current Simulation Time is >>  2022-05-18 12:46:40 ,  53.3 % Complete\n",
      "Current Simulation Time is >>  2022-05-18 13:03:20 ,  54.4 % Complete\n",
      "Current Simulation Time is >>  2022-05-18 13:20:00 ,  55.6 % Complete\n",
      "Current Simulation Time is >>  2022-05-18 13:36:40 ,  56.8 % Complete\n",
      "Current Simulation Time is >>  2022-05-18 13:53:20 ,  57.9 % Complete\n",
      "Current Simulation Time is >>  2022-05-18 14:10:00 ,  59.1 % Complete\n",
      "Current Simulation Time is >>  2022-05-18 14:26:40 ,  60.2 % Complete\n",
      "Current Simulation Time is >>  2022-05-18 14:43:20 ,  61.4 % Complete\n",
      "Current Simulation Time is >>  2022-05-18 15:00:00 ,  62.5 % Complete\n",
      "Current Simulation Time is >>  2022-05-18 15:16:40 ,  63.7 % Complete\n",
      "Current Simulation Time is >>  2022-05-18 15:33:20 ,  64.9 % Complete\n",
      "Current Simulation Time is >>  2022-05-18 15:50:00 ,  66.0 % Complete\n",
      "Current Simulation Time is >>  2022-05-18 16:06:40 ,  67.2 % Complete\n",
      "Current Simulation Time is >>  2022-05-18 16:23:20 ,  68.3 % Complete\n",
      "Current Simulation Time is >>  2022-05-18 16:40:00 ,  69.5 % Complete\n",
      "Current Simulation Time is >>  2022-05-18 16:56:40 ,  70.7 % Complete\n",
      "Current Simulation Time is >>  2022-05-18 17:13:20 ,  71.8 % Complete\n",
      "Current Simulation Time is >>  2022-05-18 17:30:00 ,  73.0 % Complete\n",
      "Current Simulation Time is >>  2022-05-18 17:46:40 ,  74.1 % Complete\n",
      "Current Simulation Time is >>  2022-05-18 18:03:20 ,  75.3 % Complete\n",
      "Current Simulation Time is >>  2022-05-18 18:20:00 ,  76.4 % Complete\n",
      "Current Simulation Time is >>  2022-05-18 18:36:40 ,  77.6 % Complete\n",
      "Current Simulation Time is >>  2022-05-18 18:53:20 ,  78.8 % Complete\n",
      "Current Simulation Time is >>  2022-05-18 19:10:00 ,  79.9 % Complete\n",
      "Current Simulation Time is >>  2022-05-18 19:26:40 ,  81.1 % Complete\n",
      "Current Simulation Time is >>  2022-05-18 19:43:20 ,  82.2 % Complete\n",
      "Current Simulation Time is >>  2022-05-18 20:00:00 ,  83.4 % Complete\n",
      "Current Simulation Time is >>  2022-05-18 20:16:40 ,  84.5 % Complete\n",
      "Current Simulation Time is >>  2022-05-18 20:33:20 ,  85.7 % Complete\n",
      "Current Simulation Time is >>  2022-05-18 20:50:00 ,  86.9 % Complete\n",
      "Current Simulation Time is >>  2022-05-18 21:06:40 ,  88.0 % Complete\n",
      "Current Simulation Time is >>  2022-05-18 21:23:20 ,  89.2 % Complete\n",
      "Current Simulation Time is >>  2022-05-18 21:40:00 ,  90.3 % Complete\n",
      "Current Simulation Time is >>  2022-05-18 21:56:40 ,  91.5 % Complete\n",
      "Current Simulation Time is >>  2022-05-18 22:13:20 ,  92.7 % Complete\n",
      "Current Simulation Time is >>  2022-05-18 22:30:00 ,  93.8 % Complete\n",
      "Current Simulation Time is >>  2022-05-18 22:46:40 ,  95.0 % Complete\n",
      "Current Simulation Time is >>  2022-05-18 23:03:20 ,  96.1 % Complete\n",
      "Current Simulation Time is >>  2022-05-18 23:20:00 ,  97.3 % Complete\n",
      "Current Simulation Time is >>  2022-05-18 23:36:40 ,  98.4 % Complete\n",
      "Current Simulation Time is >>  2022-05-18 23:53:20 ,  99.6 % Complete\n",
      "Continuity Error:  0.0007657126407139003 %\n",
      "\n"
     ]
    }
   ],
   "source": [
    "stp=0       #steps counter\n",
    "every=1000  #Interval of printing current time\n",
    "\n",
    "# runs the simulation step by step\n",
    "with sim as sim:\n",
    "    system_routing = pyswmm.SystemStats(sim)\n",
    "    for step in sim:\n",
    "        if stp%every==0:\n",
    "            print('Current Simulation Time is >> ',sim.current_time,\", \",round(sim.percent_complete*100,1),\"% Complete\")\n",
    "\n",
    "        stp+=1\n",
    "        pass\n",
    "    sim._model.swmm_end()\n",
    "    print(\"Continuity Error: \",sim.flow_routing_error,\"%\\n\")"
   ]
  },
  {
   "cell_type": "markdown",
   "metadata": {},
   "source": [
    "### Analyzing Demand Satisfaction in the Network  \n",
    "\n",
    "As an example of the postprocessing and vizualization that can be done in GOSWMMMIN (with more in development), we demonstrate a demand satisfaction analysis tool.  \n",
    "First, the demand information: both withdrawal and consumption rates are extracted from the output."
   ]
  },
  {
   "cell_type": "code",
   "execution_count": 56,
   "metadata": {},
   "outputs": [],
   "source": [
    "WithdrawRates=pd.DataFrame()   #Empty Dataframe to store water depth in tanks\n",
    "ConsumeRates=pd.DataFrame()   #Empty Dataframe to store water depth in nodes\n",
    "swtch=True                   # switch variable for upcoming condition\n",
    "\n",
    "# Reads the output file created above\n",
    "with pyswmm.Output(str(path.with_suffix(\".out\"))) as out:\n",
    "    # loops through each node in output file\n",
    "    for link in out.links:\n",
    "\n",
    "        # One time only. Gets the timesteps (the keys in the output series dictionary) and stores them to be used as index\n",
    "        if swtch:\n",
    "        # node_series produces a dictionary with the keys corresponding to timestamps and values contain the value of the selected variable (FLOW_RATE) at each timestamp\n",
    "            index = pd.Series(out.link_series(link, 'Flow_rate').keys())\n",
    "            WithdrawRates.loc[:,\"time\"]=index\n",
    "            ConsumeRates.loc[:,\"time\"]=index\n",
    "            swtch=False\n",
    "        \n",
    "        # If node id is in the prepared list of demand nodes (tanks)\n",
    "        if link in Withdraw_ids:\n",
    "            WithdrawRates.loc[:,link[6:]] = out.link_series(link, 'Flow_rate').values()  \n",
    "        elif link in Consume_ids:\n",
    "            ConsumeRates.loc[:,link[12:]]= out.link_series(link, 'Flow_rate').values()"
   ]
  },
  {
   "cell_type": "code",
   "execution_count": 57,
   "metadata": {},
   "outputs": [],
   "source": [
    "reporting_timestep = index.diff().dt.seconds.mode()[0] #reporting time step in seconds"
   ]
  },
  {
   "cell_type": "markdown",
   "metadata": {},
   "source": [
    "If the simulation is more than one day, the cell below explores the withdrawal rate based satisfaction rate and the consumption based satisfaction ratio in each day.  \n",
    "These satisfaction ratios are defined as:  \n",
    "$$SR_w = \\frac{\\Sigma Q_w(t) \\Delta t}{V_{demand}}$$\n",
    "and  \n",
    "$$ SR_c = \\frac{\\Sigma Q_c(t) \\Delta t}{V_{demand}}$$  \n",
    "where $SR_w$ and $SR_c$ are the withdrawal and consumption based SR respectively"
   ]
  },
  {
   "cell_type": "code",
   "execution_count": 58,
   "metadata": {},
   "outputs": [],
   "source": [
    "# Initialize Data Frames for Satisfaction Ratios\n",
    "Withdraw_by_Day = WithdrawRates.groupby(pd.Grouper(key = 'time', freq = 'D'))\n",
    "\n",
    "Consumer_by_Day = ConsumeRates.groupby(pd.Grouper(key = 'time', freq = 'D'))\n",
    "\n",
    "Daily_Totals_W = WithdrawRates.groupby(pd.Grouper(key = 'time', freq = 'D')).sum().T*reporting_timestep / 1000\n",
    "Daily_Totals_C = ConsumeRates.groupby(pd.Grouper(key = 'time', freq = 'D')).sum().T*reporting_timestep / 1000"
   ]
  },
  {
   "cell_type": "code",
   "execution_count": 59,
   "metadata": {},
   "outputs": [
    {
     "data": {
      "text/html": [
       "<div>\n",
       "<style scoped>\n",
       "    .dataframe tbody tr th:only-of-type {\n",
       "        vertical-align: middle;\n",
       "    }\n",
       "\n",
       "    .dataframe tbody tr th {\n",
       "        vertical-align: top;\n",
       "    }\n",
       "\n",
       "    .dataframe thead th {\n",
       "        text-align: right;\n",
       "    }\n",
       "</style>\n",
       "<table border=\"1\" class=\"dataframe\">\n",
       "  <thead>\n",
       "    <tr style=\"text-align: right;\">\n",
       "      <th>time</th>\n",
       "      <th>2022-05-18</th>\n",
       "    </tr>\n",
       "  </thead>\n",
       "  <tbody>\n",
       "    <tr>\n",
       "      <th>DN1</th>\n",
       "      <td>1456.253947</td>\n",
       "    </tr>\n",
       "    <tr>\n",
       "      <th>DN2</th>\n",
       "      <td>1473.762461</td>\n",
       "    </tr>\n",
       "    <tr>\n",
       "      <th>DN3</th>\n",
       "      <td>644.289193</td>\n",
       "    </tr>\n",
       "    <tr>\n",
       "      <th>DN4</th>\n",
       "      <td>690.626618</td>\n",
       "    </tr>\n",
       "  </tbody>\n",
       "</table>\n",
       "</div>"
      ],
      "text/plain": [
       "time   2022-05-18\n",
       "DN1   1456.253947\n",
       "DN2   1473.762461\n",
       "DN3    644.289193\n",
       "DN4    690.626618"
      ]
     },
     "execution_count": 59,
     "metadata": {},
     "output_type": "execute_result"
    }
   ],
   "source": [
    "Daily_Totals_W"
   ]
  },
  {
   "cell_type": "code",
   "execution_count": 60,
   "metadata": {},
   "outputs": [],
   "source": [
    "demand_volumes = pd.read_csv(directory/pathlib.Path(name_only+'_DemandVolumes.csv')).set_index(Daily_Totals_W.index)\n",
    "\n",
    "Daily_Satis_W = pd.DataFrame(columns=Daily_Totals_W.columns, index = Daily_Totals_W.index)\n",
    "Daily_Satis_C = pd.DataFrame(columns = Daily_Totals_C.columns, index = Daily_Totals_C.index)\n",
    "for column in range(len(Daily_Totals_W.columns)):\n",
    "        Daily_Satis_W.iloc[:,column] = Daily_Totals_W.iloc[:,column] / demand_volumes['Volume']*100\n",
    "for column in range(len(Daily_Totals_C.columns)):\n",
    "        Daily_Satis_C.iloc[:,column] = Daily_Totals_C.iloc[:,column] / demand_volumes['Volume']*100"
   ]
  },
  {
   "cell_type": "code",
   "execution_count": 61,
   "metadata": {},
   "outputs": [
    {
     "data": {
      "text/plain": [
       "(time 2022-05-18\n",
       " DN1   75.846559\n",
       " DN2   76.758461\n",
       " DN3   22.371153\n",
       " DN4   71.940273,\n",
       " time 2022-05-18\n",
       " DN1   75.844991\n",
       " DN2   76.755484\n",
       " DN3   22.368184\n",
       " DN4   71.937874)"
      ]
     },
     "execution_count": 61,
     "metadata": {},
     "output_type": "execute_result"
    }
   ],
   "source": [
    "Daily_Satis_W, Daily_Satis_C"
   ]
  },
  {
   "cell_type": "code",
   "execution_count": 63,
   "metadata": {},
   "outputs": [
    {
     "data": {
      "text/plain": [
       "(0.0, 100.0)"
      ]
     },
     "execution_count": 63,
     "metadata": {},
     "output_type": "execute_result"
    },
    {
     "data": {
      "image/png": "[encoded data removed]",
      "text/plain": [
       "<Figure size 640x480 with 1 Axes>"
      ]
     },
     "metadata": {},
     "output_type": "display_data"
    }
   ],
   "source": [
    "fig, ax  = plt.subplots()\n",
    "ax.bar(Daily_Satis_W.index, Daily_Satis_W.mean(axis=1), label = 'Withdrawal Satisfaction')\n",
    "ax.set_xlabel('Demand Node')\n",
    "ax.set_ylabel('Satisfaction Consumption-based (%)')\n",
    "ax.set_ylim(0,100)\n"
   ]
  },
  {
   "cell_type": "markdown",
   "metadata": {},
   "source": [
    "### In-development Tools  \n",
    "The following visualization and postprocessing tools are in development:  \n",
    "\n",
    "1. A Water Balance summary tool\n",
    "2. An effective supply duration tool"
   ]
  },
  {
   "cell_type": "markdown",
   "metadata": {},
   "source": [
    "## References"
   ]
  },
  {
   "cell_type": "markdown",
   "metadata": {},
   "source": [
    "[1] McDonnell, B., Ratliff, K., Tryby, M., Wu, J., & Mullapudi, A. (2020). PySWMM: The Python Interface to Stormwater Management Model (SWMM). Journal of Open Source Software, 5(52), 2292. https://doi.org/10.21105/joss.02292"
   ]
  }
 ],
 "metadata": {
  "kernelspec": {
   "display_name": "GOSWMMIN",
   "language": "python",
   "name": "python3"
  },
  "language_info": {
   "codemirror_mode": {
    "name": "ipython",
    "version": 3
   },
   "file_extension": ".py",
   "mimetype": "text/x-python",
   "name": "python",
   "nbconvert_exporter": "python",
   "pygments_lexer": "ipython3",
   "version": "3.9.20"
  }
 },
 "nbformat": 4,
 "nbformat_minor": 2
}
